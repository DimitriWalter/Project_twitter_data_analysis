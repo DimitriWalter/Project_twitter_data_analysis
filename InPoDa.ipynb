{
 "cells": [
  {
   "cell_type": "markdown",
   "metadata": {},
   "source": [
    "# InPoDa : Plateforme d'Analyse de Données Twitter\n",
    "\n",
    "---\n",
    "\n",
    "Bienvenue sur InPoDa, une plateforme virtuelle développée en Python avec l'objectif d'analyser et de traiter des données provenant de tweets. \n",
    "Cette plateforme offre une suite d'opérations puissantes pour explorer et comprendre les tendances, les sentiments et les informations clés présents dans les flux de tweets.\n",
    "\n",
    "InPoDa est conçu pour être flexible, facile à utiliser et extensible, offrant une expérience complète pour l'analyse et le traitement des données Twitter.\n"
   ]
  },
  {
   "cell_type": "markdown",
   "metadata": {},
   "source": [
    "---\n",
    "\n",
    "## Fonctionnalités\n",
    "\n",
    "### 1.Opérations de traitements :\n",
    "\n",
    "\n",
    "InPoDa offre de multiple opérations de traitements que ce soit pour extraite l'auteur, les différents hashtags et mentions, le sentiment et le ou les topics de chaque publication.\n",
    "Toutes ces opérations sont regroupés dans un même dataframe ci-dessous :\n",
    "\n"
   ]
  },
  {
   "cell_type": "code",
   "execution_count": null,
   "metadata": {},
   "outputs": [],
   "source": [
    "import traitement as tr\n",
    "\n",
    "df = tr.df\n",
    "df"
   ]
  },
  {
   "cell_type": "markdown",
   "metadata": {},
   "source": [
    "---\n",
    "\n",
    "### 2.Opérations d'analyse :\n",
    "\n",
    "Les principales fonctions de InPoDa sont ses opérations d'analyses car elle en offre une dizaine pour permettre à l'analyste de mieux comprendre toutes les données issus des différents tweets, et les visualiser grâce à un module python nommée matplotlib. \n",
    "\n",
    "L'analyste a donc une faclité à observer toutes les différentes opérations et a accès à tout pleins d'analyse sur les tweets, voir ci-dessous :\n",
    "\n"
   ]
  },
  {
   "cell_type": "code",
   "execution_count": null,
   "metadata": {},
   "outputs": [],
   "source": []
  }
 ],
 "metadata": {
  "kernelspec": {
   "display_name": "base",
   "language": "python",
   "name": "python3"
  },
  "language_info": {
   "codemirror_mode": {
    "name": "ipython",
    "version": 3
   },
   "file_extension": ".py",
   "mimetype": "text/x-python",
   "name": "python",
   "nbconvert_exporter": "python",
   "pygments_lexer": "ipython3",
   "version": "3.11.4"
  }
 },
 "nbformat": 4,
 "nbformat_minor": 2
}
