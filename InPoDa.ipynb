{
 "cells": [
  {
   "cell_type": "markdown",
   "metadata": {},
   "source": [
    "# InPoDa : Plateforme d'Analyse de Données Twitter\n",
    "\n",
    "---\n",
    "\n",
    "Bienvenue sur InPoDa, une plateforme virtuelle développée en Python avec l'objectif d'analyser et de traiter des données provenant de tweets. \n",
    "Cette plateforme offre une suite d'opérations puissantes pour explorer et comprendre les tendances, les sentiments et les informations clés présents dans les flux de tweets.\n",
    "\n"
   ]
  },
  {
   "cell_type": "markdown",
   "metadata": {},
   "source": [
    "---\n",
    "\n",
    "## Fonctionnalités\n",
    "\n",
    "### 1.Opérations de traitements :"
   ]
  },
  {
   "cell_type": "code",
   "execution_count": 14,
   "metadata": {},
   "outputs": [
    {
     "ename": "AttributeError",
     "evalue": "module 'traitement' has no attribute 'dataFrame_traitement'",
     "output_type": "error",
     "traceback": [
      "\u001b[1;31m---------------------------------------------------------------------------\u001b[0m",
      "\u001b[1;31mAttributeError\u001b[0m                            Traceback (most recent call last)",
      "\u001b[1;32mc:\\Users\\dimit\\Documents\\GitHub\\Projet_LSIN304\\InPoDa.ipynb Cell 3\u001b[0m line \u001b[0;36m3\n\u001b[0;32m      <a href='vscode-notebook-cell:/c%3A/Users/dimit/Documents/GitHub/Projet_LSIN304/InPoDa.ipynb#W1sZmlsZQ%3D%3D?line=0'>1</a>\u001b[0m \u001b[39mimport\u001b[39;00m \u001b[39mtraitement\u001b[39;00m \u001b[39mas\u001b[39;00m \u001b[39mtr\u001b[39;00m\n\u001b[1;32m----> <a href='vscode-notebook-cell:/c%3A/Users/dimit/Documents/GitHub/Projet_LSIN304/InPoDa.ipynb#W1sZmlsZQ%3D%3D?line=2'>3</a>\u001b[0m df \u001b[39m=\u001b[39m tr\u001b[39m.\u001b[39;49mdataFrame_traitement\n\u001b[0;32m      <a href='vscode-notebook-cell:/c%3A/Users/dimit/Documents/GitHub/Projet_LSIN304/InPoDa.ipynb#W1sZmlsZQ%3D%3D?line=3'>4</a>\u001b[0m df\n",
      "\u001b[1;31mAttributeError\u001b[0m: module 'traitement' has no attribute 'dataFrame_traitement'"
     ]
    }
   ],
   "source": [
    "import traitement as tr"
   ]
  },
  {
   "cell_type": "code",
   "execution_count": null,
   "metadata": {},
   "outputs": [],
   "source": []
  }
 ],
 "metadata": {
  "kernelspec": {
   "display_name": "base",
   "language": "python",
   "name": "python3"
  },
  "language_info": {
   "codemirror_mode": {
    "name": "ipython",
    "version": 3
   },
   "file_extension": ".py",
   "mimetype": "text/x-python",
   "name": "python",
   "nbconvert_exporter": "python",
   "pygments_lexer": "ipython3",
   "version": "3.11.4"
  }
 },
 "nbformat": 4,
 "nbformat_minor": 2
}
