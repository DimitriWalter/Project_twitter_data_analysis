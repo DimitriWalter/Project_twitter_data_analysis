{
 "cells": [
  {
   "cell_type": "markdown",
   "metadata": {},
   "source": [
    "# InPoDa : Plateforme d'Analyse de Données Twitter\n",
    "\n",
    "---\n",
    "\n",
    "Bienvenue sur InPoDa, une plateforme virtuelle développée en Python avec l'objectif d'analyser et de traiter des données provenant de tweets. \n",
    "Cette plateforme offre une suite d'opérations puissantes pour explorer et comprendre les tendances, les sentiments et les informations clés présents dans les flux de tweets.\n",
    "\n"
   ]
  },
  {
   "cell_type": "code",
   "execution_count": null,
   "metadata": {},
   "outputs": [],
   "source": []
  },
  {
   "cell_type": "code",
   "execution_count": null,
   "metadata": {},
   "outputs": [],
   "source": []
  }
 ],
 "metadata": {
  "kernelspec": {
   "display_name": "base",
   "language": "python",
   "name": "python3"
  },
  "language_info": {
   "codemirror_mode": {
    "name": "ipython",
    "version": 3
   },
   "file_extension": ".py",
   "mimetype": "text/x-python",
   "name": "python",
   "nbconvert_exporter": "python",
   "pygments_lexer": "ipython3",
   "version": "3.11.4"
  }
 },
 "nbformat": 4,
 "nbformat_minor": 2
}
